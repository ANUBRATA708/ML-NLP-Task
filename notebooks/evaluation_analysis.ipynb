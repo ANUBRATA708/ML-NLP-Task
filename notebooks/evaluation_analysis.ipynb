{
 "cells": [
  {
   "cell_type": "code",
   "execution_count": null,
   "id": "aab5b32f",
   "metadata": {
    "vscode": {
     "languageId": "plaintext"
    }
   },
   "outputs": [],
   "source": [
    "import json\n",
    "from sklearn.metrics import classification_report, confusion_matrix\n",
    "import seaborn as sns\n",
    "import matplotlib.pyplot as plt\n",
    "\n",
    "# Load evaluation metrics\n",
    "with open(\"../reports/evaluation_metrics.json\") as f:\n",
    "    metrics = json.load(f)\n",
    "print(metrics)\n",
    "\n",
    "# Plot confusion matrix\n",
    "import numpy as np\n",
    "labels = [\"Negative\", \"Positive\"]\n",
    "cm = np.array(metrics[\"confusion_matrix\"])\n",
    "sns.heatmap(cm, annot=True, xticklabels=labels, yticklabels=labels, fmt='d')\n",
    "plt.title(\"Confusion Matrix\")\n",
    "plt.xlabel(\"Predicted\")\n",
    "plt.ylabel(\"True\")\n",
    "plt.savefig(\"../reports/confusion_matrix.png\")\n",
    "plt.show()\n"
   ]
  }
 ],
 "metadata": {
  "language_info": {
   "name": "python"
  }
 },
 "nbformat": 4,
 "nbformat_minor": 5
}
